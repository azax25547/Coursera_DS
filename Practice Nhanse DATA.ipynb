{
 "cells": [
  {
   "cell_type": "code",
   "execution_count": 1,
   "metadata": {},
   "outputs": [
    {
     "data": {
      "text/html": [
       "<div>\n",
       "<style scoped>\n",
       "    .dataframe tbody tr th:only-of-type {\n",
       "        vertical-align: middle;\n",
       "    }\n",
       "\n",
       "    .dataframe tbody tr th {\n",
       "        vertical-align: top;\n",
       "    }\n",
       "\n",
       "    .dataframe thead th {\n",
       "        text-align: right;\n",
       "    }\n",
       "</style>\n",
       "<table border=\"1\" class=\"dataframe\">\n",
       "  <thead>\n",
       "    <tr style=\"text-align: right;\">\n",
       "      <th></th>\n",
       "      <th>SEQN</th>\n",
       "      <th>ALQ101</th>\n",
       "      <th>ALQ110</th>\n",
       "      <th>ALQ130</th>\n",
       "      <th>SMQ020</th>\n",
       "      <th>RIAGENDR</th>\n",
       "      <th>RIDAGEYR</th>\n",
       "      <th>RIDRETH1</th>\n",
       "      <th>DMDCITZN</th>\n",
       "      <th>DMDEDUC2</th>\n",
       "      <th>...</th>\n",
       "      <th>BPXSY2</th>\n",
       "      <th>BPXDI2</th>\n",
       "      <th>BMXWT</th>\n",
       "      <th>BMXHT</th>\n",
       "      <th>BMXBMI</th>\n",
       "      <th>BMXLEG</th>\n",
       "      <th>BMXARML</th>\n",
       "      <th>BMXARMC</th>\n",
       "      <th>BMXWAIST</th>\n",
       "      <th>HIQ210</th>\n",
       "    </tr>\n",
       "  </thead>\n",
       "  <tbody>\n",
       "    <tr>\n",
       "      <th>0</th>\n",
       "      <td>83732</td>\n",
       "      <td>1.0</td>\n",
       "      <td>NaN</td>\n",
       "      <td>1.0</td>\n",
       "      <td>1</td>\n",
       "      <td>1</td>\n",
       "      <td>62</td>\n",
       "      <td>3</td>\n",
       "      <td>1.0</td>\n",
       "      <td>5.0</td>\n",
       "      <td>...</td>\n",
       "      <td>124.0</td>\n",
       "      <td>64.0</td>\n",
       "      <td>94.8</td>\n",
       "      <td>184.5</td>\n",
       "      <td>27.8</td>\n",
       "      <td>43.3</td>\n",
       "      <td>43.6</td>\n",
       "      <td>35.9</td>\n",
       "      <td>101.1</td>\n",
       "      <td>2.0</td>\n",
       "    </tr>\n",
       "    <tr>\n",
       "      <th>1</th>\n",
       "      <td>83733</td>\n",
       "      <td>1.0</td>\n",
       "      <td>NaN</td>\n",
       "      <td>6.0</td>\n",
       "      <td>1</td>\n",
       "      <td>1</td>\n",
       "      <td>53</td>\n",
       "      <td>3</td>\n",
       "      <td>2.0</td>\n",
       "      <td>3.0</td>\n",
       "      <td>...</td>\n",
       "      <td>140.0</td>\n",
       "      <td>88.0</td>\n",
       "      <td>90.4</td>\n",
       "      <td>171.4</td>\n",
       "      <td>30.8</td>\n",
       "      <td>38.0</td>\n",
       "      <td>40.0</td>\n",
       "      <td>33.2</td>\n",
       "      <td>107.9</td>\n",
       "      <td>NaN</td>\n",
       "    </tr>\n",
       "    <tr>\n",
       "      <th>2</th>\n",
       "      <td>83734</td>\n",
       "      <td>1.0</td>\n",
       "      <td>NaN</td>\n",
       "      <td>NaN</td>\n",
       "      <td>1</td>\n",
       "      <td>1</td>\n",
       "      <td>78</td>\n",
       "      <td>3</td>\n",
       "      <td>1.0</td>\n",
       "      <td>3.0</td>\n",
       "      <td>...</td>\n",
       "      <td>132.0</td>\n",
       "      <td>44.0</td>\n",
       "      <td>83.4</td>\n",
       "      <td>170.1</td>\n",
       "      <td>28.8</td>\n",
       "      <td>35.6</td>\n",
       "      <td>37.0</td>\n",
       "      <td>31.0</td>\n",
       "      <td>116.5</td>\n",
       "      <td>2.0</td>\n",
       "    </tr>\n",
       "    <tr>\n",
       "      <th>3</th>\n",
       "      <td>83735</td>\n",
       "      <td>2.0</td>\n",
       "      <td>1.0</td>\n",
       "      <td>1.0</td>\n",
       "      <td>2</td>\n",
       "      <td>2</td>\n",
       "      <td>56</td>\n",
       "      <td>3</td>\n",
       "      <td>1.0</td>\n",
       "      <td>5.0</td>\n",
       "      <td>...</td>\n",
       "      <td>134.0</td>\n",
       "      <td>68.0</td>\n",
       "      <td>109.8</td>\n",
       "      <td>160.9</td>\n",
       "      <td>42.4</td>\n",
       "      <td>38.5</td>\n",
       "      <td>37.7</td>\n",
       "      <td>38.3</td>\n",
       "      <td>110.1</td>\n",
       "      <td>2.0</td>\n",
       "    </tr>\n",
       "    <tr>\n",
       "      <th>4</th>\n",
       "      <td>83736</td>\n",
       "      <td>2.0</td>\n",
       "      <td>1.0</td>\n",
       "      <td>1.0</td>\n",
       "      <td>2</td>\n",
       "      <td>2</td>\n",
       "      <td>42</td>\n",
       "      <td>4</td>\n",
       "      <td>1.0</td>\n",
       "      <td>4.0</td>\n",
       "      <td>...</td>\n",
       "      <td>114.0</td>\n",
       "      <td>54.0</td>\n",
       "      <td>55.2</td>\n",
       "      <td>164.9</td>\n",
       "      <td>20.3</td>\n",
       "      <td>37.4</td>\n",
       "      <td>36.0</td>\n",
       "      <td>27.2</td>\n",
       "      <td>80.4</td>\n",
       "      <td>2.0</td>\n",
       "    </tr>\n",
       "  </tbody>\n",
       "</table>\n",
       "<p>5 rows × 28 columns</p>\n",
       "</div>"
      ],
      "text/plain": [
       "    SEQN  ALQ101  ALQ110  ALQ130  SMQ020  RIAGENDR  RIDAGEYR  RIDRETH1  \\\n",
       "0  83732     1.0     NaN     1.0       1         1        62         3   \n",
       "1  83733     1.0     NaN     6.0       1         1        53         3   \n",
       "2  83734     1.0     NaN     NaN       1         1        78         3   \n",
       "3  83735     2.0     1.0     1.0       2         2        56         3   \n",
       "4  83736     2.0     1.0     1.0       2         2        42         4   \n",
       "\n",
       "   DMDCITZN  DMDEDUC2  ...  BPXSY2  BPXDI2  BMXWT  BMXHT  BMXBMI  BMXLEG  \\\n",
       "0       1.0       5.0  ...   124.0    64.0   94.8  184.5    27.8    43.3   \n",
       "1       2.0       3.0  ...   140.0    88.0   90.4  171.4    30.8    38.0   \n",
       "2       1.0       3.0  ...   132.0    44.0   83.4  170.1    28.8    35.6   \n",
       "3       1.0       5.0  ...   134.0    68.0  109.8  160.9    42.4    38.5   \n",
       "4       1.0       4.0  ...   114.0    54.0   55.2  164.9    20.3    37.4   \n",
       "\n",
       "   BMXARML  BMXARMC  BMXWAIST  HIQ210  \n",
       "0     43.6     35.9     101.1     2.0  \n",
       "1     40.0     33.2     107.9     NaN  \n",
       "2     37.0     31.0     116.5     2.0  \n",
       "3     37.7     38.3     110.1     2.0  \n",
       "4     36.0     27.2      80.4     2.0  \n",
       "\n",
       "[5 rows x 28 columns]"
      ]
     },
     "execution_count": 1,
     "metadata": {},
     "output_type": "execute_result"
    }
   ],
   "source": [
    "import matplotlib.pyplot as plt\n",
    "import seaborn as sns\n",
    "import pandas as pd\n",
    "import statsmodels.api as sm\n",
    "import numpy as np\n",
    "\n",
    "da = pd.read_csv(\"./data/nhanes_2015_2016.csv\")\n",
    "da.head()"
   ]
  },
  {
   "cell_type": "code",
   "execution_count": 2,
   "metadata": {},
   "outputs": [
    {
     "data": {
      "text/plain": [
       "Index(['SEQN', 'ALQ101', 'ALQ110', 'ALQ130', 'SMQ020', 'RIAGENDR', 'RIDAGEYR',\n",
       "       'RIDRETH1', 'DMDCITZN', 'DMDEDUC2', 'DMDMARTL', 'DMDHHSIZ', 'WTINT2YR',\n",
       "       'SDMVPSU', 'SDMVSTRA', 'INDFMPIR', 'BPXSY1', 'BPXDI1', 'BPXSY2',\n",
       "       'BPXDI2', 'BMXWT', 'BMXHT', 'BMXBMI', 'BMXLEG', 'BMXARML', 'BMXARMC',\n",
       "       'BMXWAIST', 'HIQ210'],\n",
       "      dtype='object')"
      ]
     },
     "execution_count": 2,
     "metadata": {},
     "output_type": "execute_result"
    }
   ],
   "source": [
    "da.columns"
   ]
  },
  {
   "cell_type": "markdown",
   "metadata": {},
   "source": [
    "## Question 1\n",
    "\n",
    "Relabel the marital status variable DMDMARTL to have brief but informative character labels. Then construct a frequency table of these values for all people, then for women only, and for men only. Then construct these three frequency tables using only people whose age is between 30 and 40."
   ]
  },
  {
   "cell_type": "code",
   "execution_count": 3,
   "metadata": {},
   "outputs": [
    {
     "data": {
      "text/plain": [
       "1.0        2780\n",
       "5.0        1004\n",
       "3.0         579\n",
       "6.0         527\n",
       "2.0         396\n",
       "Missing     261\n",
       "4.0         186\n",
       "77.0          2\n",
       "Name: DMDMARTL, dtype: int64"
      ]
     },
     "execution_count": 3,
     "metadata": {},
     "output_type": "execute_result"
    }
   ],
   "source": [
    "da[\"DMDMARTL\"].fillna(\"Missing\").value_counts()"
   ]
  },
  {
   "cell_type": "code",
   "execution_count": 18,
   "metadata": {},
   "outputs": [
    {
     "data": {
      "text/plain": [
       "agegrp    DMDMARTLx          \n",
       "(30, 40]  Married                516\n",
       "          Never Married          186\n",
       "          Living with partner    129\n",
       "          Divorced                67\n",
       "          Separated               29\n",
       "          Widowed                  4\n",
       "          Refused                  1\n",
       "Name: DMDMARTLx, dtype: int64"
      ]
     },
     "execution_count": 18,
     "metadata": {},
     "output_type": "execute_result"
    }
   ],
   "source": [
    "#Releveling the Martial Status\n",
    "da[\"DMDMARTLx\"] = da[\"DMDMARTL\"].replace({1:\"Married\",2:\"Widowed\",3:\"Divorced\",4:\"Separated\",5:\"Never Married\",6:\"Living with partner\",77:\"Refused\",99:\"Don't know\"})\n",
    "da[\"DMDMARTLx\"].value_counts()\n",
    "da[\"RIAGENDRx\"] = da[\"RIAGENDR\"].replace({1: \"Male\", 2: \"Female\"})\n",
    "da[\"agegrp\"] = pd.cut(da.RIDAGEYR, [30, 40])\n",
    "da.groupby(\"agegrp\")[\"DMDMARTLx\"].value_counts()\n"
   ]
  },
  {
   "cell_type": "code",
   "execution_count": 17,
   "metadata": {},
   "outputs": [
    {
     "data": {
      "text/plain": [
       "Married                2780\n",
       "Never Married          1004\n",
       "Divorced                579\n",
       "Living with partner     527\n",
       "Widowed                 396\n",
       "Separated               186\n",
       "Refused                   2\n",
       "Name: DMDMARTLx, dtype: int64"
      ]
     },
     "execution_count": 17,
     "metadata": {},
     "output_type": "execute_result"
    }
   ],
   "source": [
    "da[\"DMDMARTLx\"].value_counts()"
   ]
  },
  {
   "cell_type": "code",
   "execution_count": 6,
   "metadata": {},
   "outputs": [
    {
     "data": {
      "text/plain": [
       "RIAGENDRx  DMDMARTLx          \n",
       "Female     Married                1303\n",
       "           Never Married           520\n",
       "           Divorced                350\n",
       "           Widowed                 296\n",
       "           Living with partner     262\n",
       "           Separated               118\n",
       "           Refused                   1\n",
       "Male       Married                1477\n",
       "           Never Married           484\n",
       "           Living with partner     265\n",
       "           Divorced                229\n",
       "           Widowed                 100\n",
       "           Separated                68\n",
       "           Refused                   1\n",
       "Name: DMDMARTLx, dtype: int64"
      ]
     },
     "execution_count": 6,
     "metadata": {},
     "output_type": "execute_result"
    }
   ],
   "source": [
    "da.groupby(\"RIAGENDRx\")[\"DMDMARTLx\"].value_counts()"
   ]
  },
  {
   "cell_type": "markdown",
   "metadata": {},
   "source": [
    "__Q1a.__ Briefly comment on some of the differences that you observe between the distribution of marital status between women and men, for people of all ages."
   ]
  },
  {
   "cell_type": "markdown",
   "metadata": {},
   "source": [
    "From the above Distribution of the martial status of Men & Women, We can see that \n",
    "    1. More men are married than of Women.\n",
    "    2. It seems more women are divorced than men.\n",
    "    3. Most of indiaviduals in women are likely to be lost their partners.\n"
   ]
  },
  {
   "cell_type": "markdown",
   "metadata": {},
   "source": [
    "__Q1b.__ Briefly comment on the differences that you observe between the distribution of marital status states for women between the overall population, and for women between the ages of 30 and 40."
   ]
  },
  {
   "cell_type": "code",
   "execution_count": 24,
   "metadata": {},
   "outputs": [
    {
     "data": {
      "text/plain": [
       "agegrp    RIAGENDRx  DMDMARTLx          \n",
       "(30, 40]  Female     Married                0.276824\n",
       "                     Never Married          0.104077\n",
       "                     Living with partner    0.061159\n",
       "                     Divorced               0.046137\n",
       "                     Separated              0.018240\n",
       "                     Widowed                0.002146\n",
       "          Male       Married                0.276824\n",
       "                     Never Married          0.095494\n",
       "                     Living with partner    0.077253\n",
       "                     Divorced               0.025751\n",
       "                     Separated              0.012876\n",
       "                     Widowed                0.002146\n",
       "                     Refused                0.001073\n",
       "Name: DMDMARTLx, dtype: float64"
      ]
     },
     "execution_count": 24,
     "metadata": {},
     "output_type": "execute_result"
    }
   ],
   "source": [
    "# Getting the Data of the Men and Women from Age Group 30-40\n",
    "x = da.groupby([\"agegrp\",\"RIAGENDRx\"])[\"DMDMARTLx\"].value_counts()\n",
    "x /=  x.sum()\n",
    "# da.groupby([\"agegrp\",\"RIAGENDRx\"])[\"DMDMARTLx\"].value_counts()\n",
    "x"
   ]
  },
  {
   "cell_type": "code",
   "execution_count": 10,
   "metadata": {},
   "outputs": [
    {
     "data": {
      "text/plain": [
       "RIAGENDRx  DMDMARTLx          \n",
       "Female     Married                0.238034\n",
       "           Never Married          0.094995\n",
       "           Divorced               0.063939\n",
       "           Widowed                0.054074\n",
       "           Living with partner    0.047863\n",
       "           Separated              0.021556\n",
       "           Refused                0.000183\n",
       "Male       Married                0.269821\n",
       "           Never Married          0.088418\n",
       "           Living with partner    0.048411\n",
       "           Divorced               0.041834\n",
       "           Widowed                0.018268\n",
       "           Separated              0.012422\n",
       "           Refused                0.000183\n",
       "Name: DMDMARTLx, dtype: float64"
      ]
     },
     "execution_count": 10,
     "metadata": {},
     "output_type": "execute_result"
    }
   ],
   "source": [
    "# Getting the Data of the Akk Men and Women\n",
    "y = da.groupby(\"RIAGENDRx\")[\"DMDMARTLx\"].value_counts()\n",
    "y /= y.sum()\n",
    "y"
   ]
  },
  {
   "cell_type": "markdown",
   "metadata": {},
   "source": [
    "1. From overall women martial status we can see that where 23% of Female are married Where 27% women are of the age range 30-40.\n",
    "2. We can see here that from overall women around 2% are separated but 1% are separated in this age range which is 14% are from this range which are separated.\n"
   ]
  },
  {
   "cell_type": "markdown",
   "metadata": {},
   "source": [
    "__Q1c.__ Repeat part b for the men."
   ]
  },
  {
   "cell_type": "markdown",
   "metadata": {},
   "source": [
    "1. From overall men martial status we can see that where 26% of Men are married Where 27% men are of the age range 30-40.\n",
    "2. We can see here that from overall women around 2% are separated but 1% are separated in this age range which is 14% are from this range which are separated.\n"
   ]
  },
  {
   "cell_type": "markdown",
   "metadata": {},
   "source": [
    "## Question 2\n",
    "\n",
    "Restricting to the female population, stratify the subjects into age bands no wider than ten years, and construct the distribution of marital status within each age band.  Within each age band, present the distribution in terms of proportions that must sum to 1."
   ]
  },
  {
   "cell_type": "code",
   "execution_count": 55,
   "metadata": {},
   "outputs": [
    {
     "data": {
      "text/plain": [
       "male    agegrpx   DMDMARTLx          \n",
       "(0, 1]  (10, 20]  Never Married           1.371951\n",
       "                  Living with partner     0.114329\n",
       "                  Married                 0.038110\n",
       "        (20, 30]  Never Married           8.612805\n",
       "                  Married                 3.925305\n",
       "                  Living with partner     3.506098\n",
       "                  Separated               0.266768\n",
       "                  Divorced                0.076220\n",
       "                  Widowed                 0.076220\n",
       "        (30, 40]  Married                 9.832317\n",
       "                  Never Married           3.391768\n",
       "                  Living with partner     2.743902\n",
       "                  Divorced                0.914634\n",
       "                  Separated               0.457317\n",
       "                  Widowed                 0.076220\n",
       "                  Refused                 0.038110\n",
       "        (40, 50]  Married                10.746951\n",
       "                  Never Married           1.486280\n",
       "                  Divorced                1.295732\n",
       "                  Living with partner     1.257622\n",
       "                  Separated               0.419207\n",
       "                  Widowed                 0.076220\n",
       "        (50, 60]  Married                11.280488\n",
       "                  Divorced                2.172256\n",
       "                  Never Married           1.791159\n",
       "                  Living with partner     1.295732\n",
       "                  Separated               0.381098\n",
       "                  Widowed                 0.381098\n",
       "        (60, 70]  Married                11.089939\n",
       "                  Divorced                2.096037\n",
       "                  Never Married           1.448171\n",
       "                  Living with partner     0.838415\n",
       "                  Widowed                 0.647866\n",
       "                  Separated               0.533537\n",
       "        (70, 80]  Married                 9.375000\n",
       "                  Widowed                 2.553354\n",
       "                  Divorced                2.172256\n",
       "                  Separated               0.533537\n",
       "                  Living with partner     0.342988\n",
       "                  Never Married           0.342988\n",
       "Name: DMDMARTLx, dtype: float64"
      ]
     },
     "execution_count": 55,
     "metadata": {},
     "output_type": "execute_result"
    }
   ],
   "source": [
    "da[\"male\"] = pd.cut(da.RIAGENDR,[0,1])\n",
    "# da[\"male\"].dropna().value_counts()\n",
    "\n",
    "da[\"agegrpx\"] = pd.cut(da.RIDAGEYR,[10,20,30,40,50,60,70,80])\n",
    "da[\"agegrpx\"].value_counts()\n",
    "\n",
    "z = da.groupby([\"male\", \"agegrpx\"])[\"DMDMARTLx\"].value_counts()\n",
    "z /= z.sum() \n",
    "z * 100"
   ]
  },
  {
   "cell_type": "markdown",
   "metadata": {},
   "source": [
    "__Q2a.__ Comment on the trends that you see in this series of marginal distributions."
   ]
  },
  {
   "cell_type": "markdown",
   "metadata": {},
   "source": [
    "We can see here that The age of the marrige ranges between 20-30 and most of them remain married for 60 to 70 years\n",
    "We can see that now a days most young people in 10 to 30 prefers to live with partner before marriage \n",
    "Men are getting divorced from their partners from 30 to 40 and its increasing to around 65\n",
    "Most men lost their partners at 70 and above rather than other ages... "
   ]
  },
  {
   "cell_type": "code",
   "execution_count": 58,
   "metadata": {},
   "outputs": [
    {
     "data": {
      "text/plain": [
       "female  agegrpx   DMDMARTLx          \n",
       "(1, 2]  (10, 20]  Never Married           1.052632\n",
       "                  Living with partner     0.280702\n",
       "                  Married                 0.035088\n",
       "        (20, 30]  Never Married           8.035088\n",
       "                  Married                 5.508772\n",
       "                  Living with partner     3.719298\n",
       "                  Divorced                0.385965\n",
       "                  Separated               0.385965\n",
       "        (30, 40]  Married                 9.052632\n",
       "                  Never Married           3.403509\n",
       "                  Living with partner     2.000000\n",
       "                  Divorced                1.508772\n",
       "                  Separated               0.596491\n",
       "                  Widowed                 0.070175\n",
       "        (40, 50]  Married                10.105263\n",
       "                  Divorced                2.421053\n",
       "                  Never Married           2.210526\n",
       "                  Living with partner     1.298246\n",
       "                  Separated               1.157895\n",
       "                  Widowed                 0.421053\n",
       "        (50, 60]  Married                 9.017544\n",
       "                  Divorced                2.912281\n",
       "                  Never Married           1.473684\n",
       "                  Living with partner     1.122807\n",
       "                  Widowed                 0.982456\n",
       "                  Separated               0.947368\n",
       "                  Refused                 0.035088\n",
       "        (60, 70]  Married                 7.438596\n",
       "                  Divorced                2.982456\n",
       "                  Widowed                 2.280702\n",
       "                  Never Married           1.333333\n",
       "                  Separated               0.771930\n",
       "                  Living with partner     0.666667\n",
       "        (70, 80]  Widowed                 6.631579\n",
       "                  Married                 4.561404\n",
       "                  Divorced                2.070175\n",
       "                  Never Married           0.736842\n",
       "                  Separated               0.280702\n",
       "                  Living with partner     0.105263\n",
       "Name: DMDMARTLx, dtype: float64"
      ]
     },
     "execution_count": 58,
     "metadata": {},
     "output_type": "execute_result"
    }
   ],
   "source": [
    "da[\"female\"] = pd.cut(da.RIAGENDR,[1,2])\n",
    "# da[\"male\"].dropna().value_counts()\n",
    "\n",
    "da[\"agegrpx\"] = pd.cut(da.RIDAGEYR,[10,20,30,40,50,60,70,80])\n",
    "da[\"agegrpx\"].value_counts()\n",
    "\n",
    "z = da.groupby([\"female\", \"agegrpx\"])[\"DMDMARTLx\"].value_counts()\n",
    "z /= z.sum() \n",
    "z * 100"
   ]
  },
  {
   "cell_type": "code",
   "execution_count": null,
   "metadata": {},
   "outputs": [],
   "source": []
  }
 ],
 "metadata": {
  "kernelspec": {
   "display_name": "Python 3",
   "language": "python",
   "name": "python3"
  },
  "language_info": {
   "codemirror_mode": {
    "name": "ipython",
    "version": 3
   },
   "file_extension": ".py",
   "mimetype": "text/x-python",
   "name": "python",
   "nbconvert_exporter": "python",
   "pygments_lexer": "ipython3",
   "version": "3.7.6"
  }
 },
 "nbformat": 4,
 "nbformat_minor": 4
}
